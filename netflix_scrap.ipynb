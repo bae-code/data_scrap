{
 "cells": [
  {
   "cell_type": "code",
   "execution_count": 10,
   "metadata": {},
   "outputs": [],
   "source": [
    "from selenium import webdriver"
   ]
  },
  {
   "cell_type": "code",
   "execution_count": 11,
   "metadata": {},
   "outputs": [
    {
     "name": "stderr",
     "output_type": "stream",
     "text": [
      "C:\\Users\\locin\\AppData\\Local\\Temp\\ipykernel_26952\\1226262145.py:1: DeprecationWarning: executable_path has been deprecated, please pass in a Service object\n",
      "  browser = webdriver.Chrome('chromedriver.exe')\n"
     ]
    }
   ],
   "source": [
    "browser = webdriver.Chrome('chromedriver.exe')"
   ]
  },
  {
   "cell_type": "code",
   "execution_count": 83,
   "metadata": {},
   "outputs": [],
   "source": [
    "url = 'https://www.netflix.com/kr/browse/genre/839338'"
   ]
  },
  {
   "cell_type": "code",
   "execution_count": 84,
   "metadata": {},
   "outputs": [],
   "source": [
    "browser.get(url)\n",
    "html = browser.page_source\n"
   ]
  },
  {
   "cell_type": "code",
   "execution_count": 51,
   "metadata": {},
   "outputs": [],
   "source": [
    "from bs4 import BeautifulSoup"
   ]
  },
  {
   "cell_type": "code",
   "execution_count": 86,
   "metadata": {},
   "outputs": [],
   "source": [
    "soup = BeautifulSoup(html, 'html.parser')"
   ]
  },
  {
   "cell_type": "code",
   "execution_count": 197,
   "metadata": {},
   "outputs": [],
   "source": [
    "section_list = soup.select('section.nm-collections-row')\n",
    "\n",
    "section = section_list[0]\n"
   ]
  },
  {
   "cell_type": "code",
   "execution_count": 232,
   "metadata": {},
   "outputs": [],
   "source": [
    "result = []\n",
    "\n",
    "for i in section_list:\n",
    "    title = i.select('h2')[0].text.replace('더 살펴보기', '')\n",
    "    program_list = i.select('li')\n",
    "    for j in program_list:\n",
    "        img = j.select('img')[0]['src']\n",
    "        prg = j.select('span.nm-collections-title-name')[0].text\n",
    "        result.append([title, prg, img])"
   ]
  },
  {
   "cell_type": "code",
   "execution_count": 233,
   "metadata": {},
   "outputs": [],
   "source": [
    "import pandas as pd"
   ]
  },
  {
   "cell_type": "code",
   "execution_count": 236,
   "metadata": {},
   "outputs": [
    {
     "data": {
      "text/html": [
       "<div>\n",
       "<style scoped>\n",
       "    .dataframe tbody tr th:only-of-type {\n",
       "        vertical-align: middle;\n",
       "    }\n",
       "\n",
       "    .dataframe tbody tr th {\n",
       "        vertical-align: top;\n",
       "    }\n",
       "\n",
       "    .dataframe thead th {\n",
       "        text-align: right;\n",
       "    }\n",
       "</style>\n",
       "<table border=\"1\" class=\"dataframe\">\n",
       "  <thead>\n",
       "    <tr style=\"text-align: right;\">\n",
       "      <th></th>\n",
       "      <th>0</th>\n",
       "      <th>1</th>\n",
       "      <th>2</th>\n",
       "    </tr>\n",
       "  </thead>\n",
       "  <tbody>\n",
       "    <tr>\n",
       "      <th>0</th>\n",
       "      <td>Netflix 인기 콘텐츠</td>\n",
       "      <td>지금 우리 학교는</td>\n",
       "      <td>https://occ-0-395-325.1.nflxso.net/dnm/api/v6/...</td>\n",
       "    </tr>\n",
       "    <tr>\n",
       "      <th>1</th>\n",
       "      <td>Netflix 인기 콘텐츠</td>\n",
       "      <td>오징어 게임</td>\n",
       "      <td>https://occ-0-395-325.1.nflxso.net/dnm/api/v6/...</td>\n",
       "    </tr>\n",
       "    <tr>\n",
       "      <th>2</th>\n",
       "      <td>Netflix 인기 콘텐츠</td>\n",
       "      <td>D.P.</td>\n",
       "      <td>https://occ-0-395-325.1.nflxso.net/dnm/api/v6/...</td>\n",
       "    </tr>\n",
       "    <tr>\n",
       "      <th>3</th>\n",
       "      <td>Netflix 인기 콘텐츠</td>\n",
       "      <td>로스트 인 스페이스</td>\n",
       "      <td>https://occ-0-395-325.1.nflxso.net/dnm/api/v6/...</td>\n",
       "    </tr>\n",
       "    <tr>\n",
       "      <th>4</th>\n",
       "      <td>Netflix 인기 콘텐츠</td>\n",
       "      <td>빨간 머리 앤</td>\n",
       "      <td>https://occ-0-395-325.1.nflxso.net/dnm/api/v6/...</td>\n",
       "    </tr>\n",
       "    <tr>\n",
       "      <th>...</th>\n",
       "      <td>...</td>\n",
       "      <td>...</td>\n",
       "      <td>...</td>\n",
       "    </tr>\n",
       "    <tr>\n",
       "      <th>1235</th>\n",
       "      <td>몰아보기 추천 시리즈</td>\n",
       "      <td>착오</td>\n",
       "      <td>data:image/gif;base64,R0lGODlhAQABAAAAACH5BAEK...</td>\n",
       "    </tr>\n",
       "    <tr>\n",
       "      <th>1236</th>\n",
       "      <td>몰아보기 추천 시리즈</td>\n",
       "      <td>그레이트 프리텐더</td>\n",
       "      <td>data:image/gif;base64,R0lGODlhAQABAAAAACH5BAEK...</td>\n",
       "    </tr>\n",
       "    <tr>\n",
       "      <th>1237</th>\n",
       "      <td>몰아보기 추천 시리즈</td>\n",
       "      <td>스테이 클로즈</td>\n",
       "      <td>data:image/gif;base64,R0lGODlhAQABAAAAACH5BAEK...</td>\n",
       "    </tr>\n",
       "    <tr>\n",
       "      <th>1238</th>\n",
       "      <td>몰아보기 추천 시리즈</td>\n",
       "      <td>알라와비 여고</td>\n",
       "      <td>data:image/gif;base64,R0lGODlhAQABAAAAACH5BAEK...</td>\n",
       "    </tr>\n",
       "    <tr>\n",
       "      <th>1239</th>\n",
       "      <td>몰아보기 추천 시리즈</td>\n",
       "      <td>블러드라인</td>\n",
       "      <td>data:image/gif;base64,R0lGODlhAQABAAAAACH5BAEK...</td>\n",
       "    </tr>\n",
       "  </tbody>\n",
       "</table>\n",
       "<p>1240 rows × 3 columns</p>\n",
       "</div>"
      ],
      "text/plain": [
       "                   0           1  \\\n",
       "0     Netflix 인기 콘텐츠   지금 우리 학교는   \n",
       "1     Netflix 인기 콘텐츠      오징어 게임   \n",
       "2     Netflix 인기 콘텐츠        D.P.   \n",
       "3     Netflix 인기 콘텐츠  로스트 인 스페이스   \n",
       "4     Netflix 인기 콘텐츠     빨간 머리 앤   \n",
       "...              ...         ...   \n",
       "1235     몰아보기 추천 시리즈          착오   \n",
       "1236     몰아보기 추천 시리즈   그레이트 프리텐더   \n",
       "1237     몰아보기 추천 시리즈     스테이 클로즈   \n",
       "1238     몰아보기 추천 시리즈     알라와비 여고   \n",
       "1239     몰아보기 추천 시리즈       블러드라인   \n",
       "\n",
       "                                                      2  \n",
       "0     https://occ-0-395-325.1.nflxso.net/dnm/api/v6/...  \n",
       "1     https://occ-0-395-325.1.nflxso.net/dnm/api/v6/...  \n",
       "2     https://occ-0-395-325.1.nflxso.net/dnm/api/v6/...  \n",
       "3     https://occ-0-395-325.1.nflxso.net/dnm/api/v6/...  \n",
       "4     https://occ-0-395-325.1.nflxso.net/dnm/api/v6/...  \n",
       "...                                                 ...  \n",
       "1235  data:image/gif;base64,R0lGODlhAQABAAAAACH5BAEK...  \n",
       "1236  data:image/gif;base64,R0lGODlhAQABAAAAACH5BAEK...  \n",
       "1237  data:image/gif;base64,R0lGODlhAQABAAAAACH5BAEK...  \n",
       "1238  data:image/gif;base64,R0lGODlhAQABAAAAACH5BAEK...  \n",
       "1239  data:image/gif;base64,R0lGODlhAQABAAAAACH5BAEK...  \n",
       "\n",
       "[1240 rows x 3 columns]"
      ]
     },
     "execution_count": 236,
     "metadata": {},
     "output_type": "execute_result"
    }
   ],
   "source": [
    "df  = pd.DataFrame(result)\n",
    "df"
   ]
  },
  {
   "cell_type": "code",
   "execution_count": 238,
   "metadata": {},
   "outputs": [],
   "source": [
    "df.columns = ['카테고리','제목','이미지']"
   ]
  },
  {
   "cell_type": "code",
   "execution_count": 242,
   "metadata": {},
   "outputs": [],
   "source": [
    "df.to_csv('netflix.csv')"
   ]
  },
  {
   "cell_type": "code",
   "execution_count": null,
   "metadata": {},
   "outputs": [],
   "source": []
  }
 ],
 "metadata": {
  "interpreter": {
   "hash": "234f052233c79be27f5745c4191e287b35d01345535f738f4df81500e83027b7"
  },
  "kernelspec": {
   "display_name": "Python 3.9.7 ('pyenv39')",
   "language": "python",
   "name": "python3"
  },
  "language_info": {
   "codemirror_mode": {
    "name": "ipython",
    "version": 3
   },
   "file_extension": ".py",
   "mimetype": "text/x-python",
   "name": "python",
   "nbconvert_exporter": "python",
   "pygments_lexer": "ipython3",
   "version": "3.9.7"
  },
  "orig_nbformat": 4
 },
 "nbformat": 4,
 "nbformat_minor": 2
}
